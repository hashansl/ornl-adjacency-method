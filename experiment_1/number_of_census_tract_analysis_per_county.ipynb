{
 "cells": [
  {
   "cell_type": "markdown",
   "metadata": {},
   "source": [
    "#### Number of census tract in a county - Analysis"
   ]
  },
  {
   "cell_type": "code",
   "execution_count": 8,
   "metadata": {},
   "outputs": [],
   "source": [
    "import geopandas as gpd\n",
    "import pandas as pd"
   ]
  },
  {
   "cell_type": "code",
   "execution_count": 2,
   "metadata": {},
   "outputs": [],
   "source": [
    "svi = gpd.read_file('/home/h6x/git_projects/ornl-svi-data-processing/raw_data/svi/2018/SVI2018_US_tract.gdb')"
   ]
  },
  {
   "cell_type": "code",
   "execution_count": 3,
   "metadata": {},
   "outputs": [
    {
     "data": {
      "text/html": [
       "<div>\n",
       "<style scoped>\n",
       "    .dataframe tbody tr th:only-of-type {\n",
       "        vertical-align: middle;\n",
       "    }\n",
       "\n",
       "    .dataframe tbody tr th {\n",
       "        vertical-align: top;\n",
       "    }\n",
       "\n",
       "    .dataframe thead th {\n",
       "        text-align: right;\n",
       "    }\n",
       "</style>\n",
       "<table border=\"1\" class=\"dataframe\">\n",
       "  <thead>\n",
       "    <tr style=\"text-align: right;\">\n",
       "      <th></th>\n",
       "      <th>ST</th>\n",
       "      <th>STATE</th>\n",
       "      <th>ST_ABBR</th>\n",
       "      <th>STCNTY</th>\n",
       "      <th>COUNTY</th>\n",
       "      <th>FIPS</th>\n",
       "      <th>LOCATION</th>\n",
       "      <th>AREA_SQMI</th>\n",
       "      <th>E_TOTPOP</th>\n",
       "      <th>M_TOTPOP</th>\n",
       "      <th>...</th>\n",
       "      <th>F_THEME4</th>\n",
       "      <th>F_TOTAL</th>\n",
       "      <th>E_UNINSUR</th>\n",
       "      <th>M_UNINSUR</th>\n",
       "      <th>EP_UNINSUR</th>\n",
       "      <th>MP_UNINSUR</th>\n",
       "      <th>E_DAYPOP</th>\n",
       "      <th>Shape_Length</th>\n",
       "      <th>Shape_Area</th>\n",
       "      <th>geometry</th>\n",
       "    </tr>\n",
       "  </thead>\n",
       "  <tbody>\n",
       "    <tr>\n",
       "      <th>0</th>\n",
       "      <td>01</td>\n",
       "      <td>ALABAMA</td>\n",
       "      <td>AL</td>\n",
       "      <td>01015</td>\n",
       "      <td>Calhoun</td>\n",
       "      <td>01015981901</td>\n",
       "      <td>Census Tract 9819.01, Calhoun County, Alabama</td>\n",
       "      <td>24.243865</td>\n",
       "      <td>0</td>\n",
       "      <td>12</td>\n",
       "      <td>...</td>\n",
       "      <td>-999</td>\n",
       "      <td>-999</td>\n",
       "      <td>0</td>\n",
       "      <td>12</td>\n",
       "      <td>-999.0</td>\n",
       "      <td>-999.0</td>\n",
       "      <td>656</td>\n",
       "      <td>0.339400</td>\n",
       "      <td>0.006105</td>\n",
       "      <td>MULTIPOLYGON (((-86.01323 33.68426, -86.01224 ...</td>\n",
       "    </tr>\n",
       "    <tr>\n",
       "      <th>1</th>\n",
       "      <td>01</td>\n",
       "      <td>ALABAMA</td>\n",
       "      <td>AL</td>\n",
       "      <td>01015</td>\n",
       "      <td>Calhoun</td>\n",
       "      <td>01015981902</td>\n",
       "      <td>Census Tract 9819.02, Calhoun County, Alabama</td>\n",
       "      <td>34.646714</td>\n",
       "      <td>0</td>\n",
       "      <td>12</td>\n",
       "      <td>...</td>\n",
       "      <td>-999</td>\n",
       "      <td>-999</td>\n",
       "      <td>0</td>\n",
       "      <td>12</td>\n",
       "      <td>-999.0</td>\n",
       "      <td>-999.0</td>\n",
       "      <td>146</td>\n",
       "      <td>0.420459</td>\n",
       "      <td>0.008752</td>\n",
       "      <td>MULTIPOLYGON (((-86.01730 33.69662, -86.01704 ...</td>\n",
       "    </tr>\n",
       "    <tr>\n",
       "      <th>2</th>\n",
       "      <td>01</td>\n",
       "      <td>ALABAMA</td>\n",
       "      <td>AL</td>\n",
       "      <td>01015</td>\n",
       "      <td>Calhoun</td>\n",
       "      <td>01015981903</td>\n",
       "      <td>Census Tract 9819.03, Calhoun County, Alabama</td>\n",
       "      <td>13.926276</td>\n",
       "      <td>0</td>\n",
       "      <td>12</td>\n",
       "      <td>...</td>\n",
       "      <td>-999</td>\n",
       "      <td>-999</td>\n",
       "      <td>0</td>\n",
       "      <td>12</td>\n",
       "      <td>-999.0</td>\n",
       "      <td>-999.0</td>\n",
       "      <td>0</td>\n",
       "      <td>0.330164</td>\n",
       "      <td>0.003508</td>\n",
       "      <td>MULTIPOLYGON (((-85.78501 33.66554, -85.78318 ...</td>\n",
       "    </tr>\n",
       "    <tr>\n",
       "      <th>3</th>\n",
       "      <td>01</td>\n",
       "      <td>ALABAMA</td>\n",
       "      <td>AL</td>\n",
       "      <td>01097</td>\n",
       "      <td>Mobile</td>\n",
       "      <td>01097003605</td>\n",
       "      <td>Census Tract 36.05, Mobile County, Alabama</td>\n",
       "      <td>0.732300</td>\n",
       "      <td>899</td>\n",
       "      <td>316</td>\n",
       "      <td>...</td>\n",
       "      <td>-999</td>\n",
       "      <td>-999</td>\n",
       "      <td>33</td>\n",
       "      <td>36</td>\n",
       "      <td>3.7</td>\n",
       "      <td>4.1</td>\n",
       "      <td>5135</td>\n",
       "      <td>0.060725</td>\n",
       "      <td>0.000180</td>\n",
       "      <td>MULTIPOLYGON (((-88.19230 30.69524, -88.19097 ...</td>\n",
       "    </tr>\n",
       "    <tr>\n",
       "      <th>4</th>\n",
       "      <td>01</td>\n",
       "      <td>ALABAMA</td>\n",
       "      <td>AL</td>\n",
       "      <td>01097</td>\n",
       "      <td>Mobile</td>\n",
       "      <td>01097990000</td>\n",
       "      <td>Census Tract 9900, Mobile County, Alabama</td>\n",
       "      <td>0.000000</td>\n",
       "      <td>0</td>\n",
       "      <td>12</td>\n",
       "      <td>...</td>\n",
       "      <td>-999</td>\n",
       "      <td>-999</td>\n",
       "      <td>0</td>\n",
       "      <td>12</td>\n",
       "      <td>-999.0</td>\n",
       "      <td>-999.0</td>\n",
       "      <td>0</td>\n",
       "      <td>0.105380</td>\n",
       "      <td>0.000536</td>\n",
       "      <td>MULTIPOLYGON (((-88.05337 30.50699, -88.05109 ...</td>\n",
       "    </tr>\n",
       "  </tbody>\n",
       "</table>\n",
       "<p>5 rows × 127 columns</p>\n",
       "</div>"
      ],
      "text/plain": [
       "   ST    STATE ST_ABBR STCNTY   COUNTY         FIPS  \\\n",
       "0  01  ALABAMA      AL  01015  Calhoun  01015981901   \n",
       "1  01  ALABAMA      AL  01015  Calhoun  01015981902   \n",
       "2  01  ALABAMA      AL  01015  Calhoun  01015981903   \n",
       "3  01  ALABAMA      AL  01097   Mobile  01097003605   \n",
       "4  01  ALABAMA      AL  01097   Mobile  01097990000   \n",
       "\n",
       "                                        LOCATION  AREA_SQMI  E_TOTPOP  \\\n",
       "0  Census Tract 9819.01, Calhoun County, Alabama  24.243865         0   \n",
       "1  Census Tract 9819.02, Calhoun County, Alabama  34.646714         0   \n",
       "2  Census Tract 9819.03, Calhoun County, Alabama  13.926276         0   \n",
       "3     Census Tract 36.05, Mobile County, Alabama   0.732300       899   \n",
       "4      Census Tract 9900, Mobile County, Alabama   0.000000         0   \n",
       "\n",
       "   M_TOTPOP  ...  F_THEME4  F_TOTAL  E_UNINSUR  M_UNINSUR  EP_UNINSUR  \\\n",
       "0        12  ...      -999     -999          0         12      -999.0   \n",
       "1        12  ...      -999     -999          0         12      -999.0   \n",
       "2        12  ...      -999     -999          0         12      -999.0   \n",
       "3       316  ...      -999     -999         33         36         3.7   \n",
       "4        12  ...      -999     -999          0         12      -999.0   \n",
       "\n",
       "   MP_UNINSUR  E_DAYPOP  Shape_Length  Shape_Area  \\\n",
       "0      -999.0       656      0.339400    0.006105   \n",
       "1      -999.0       146      0.420459    0.008752   \n",
       "2      -999.0         0      0.330164    0.003508   \n",
       "3         4.1      5135      0.060725    0.000180   \n",
       "4      -999.0         0      0.105380    0.000536   \n",
       "\n",
       "                                            geometry  \n",
       "0  MULTIPOLYGON (((-86.01323 33.68426, -86.01224 ...  \n",
       "1  MULTIPOLYGON (((-86.01730 33.69662, -86.01704 ...  \n",
       "2  MULTIPOLYGON (((-85.78501 33.66554, -85.78318 ...  \n",
       "3  MULTIPOLYGON (((-88.19230 30.69524, -88.19097 ...  \n",
       "4  MULTIPOLYGON (((-88.05337 30.50699, -88.05109 ...  \n",
       "\n",
       "[5 rows x 127 columns]"
      ]
     },
     "execution_count": 3,
     "metadata": {},
     "output_type": "execute_result"
    }
   ],
   "source": [
    "svi.head()"
   ]
  },
  {
   "cell_type": "code",
   "execution_count": 4,
   "metadata": {},
   "outputs": [
    {
     "data": {
      "text/plain": [
       "3142"
      ]
     },
     "execution_count": 4,
     "metadata": {},
     "output_type": "execute_result"
    }
   ],
   "source": [
    "svi['STCNTY'].nunique() "
   ]
  },
  {
   "cell_type": "code",
   "execution_count": 5,
   "metadata": {},
   "outputs": [],
   "source": [
    "counties = svi['STCNTY'].unique().tolist()"
   ]
  },
  {
   "cell_type": "code",
   "execution_count": 9,
   "metadata": {},
   "outputs": [],
   "source": [
    "# create an empty dataframe\n",
    "df_counties = pd.DataFrame(columns=['STCNTY', 'count'])"
   ]
  },
  {
   "cell_type": "code",
   "execution_count": 10,
   "metadata": {},
   "outputs": [],
   "source": [
    "for county in counties:\n",
    "    count = svi[svi['STCNTY'] == county].shape[0]\n",
    "    new_row = pd.DataFrame([{'STCNTY':county,'count':count}])\n",
    "    df_counties = pd.concat([df_counties, new_row], ignore_index=True)"
   ]
  },
  {
   "cell_type": "code",
   "execution_count": 11,
   "metadata": {},
   "outputs": [
    {
     "data": {
      "text/html": [
       "<div>\n",
       "<style scoped>\n",
       "    .dataframe tbody tr th:only-of-type {\n",
       "        vertical-align: middle;\n",
       "    }\n",
       "\n",
       "    .dataframe tbody tr th {\n",
       "        vertical-align: top;\n",
       "    }\n",
       "\n",
       "    .dataframe thead th {\n",
       "        text-align: right;\n",
       "    }\n",
       "</style>\n",
       "<table border=\"1\" class=\"dataframe\">\n",
       "  <thead>\n",
       "    <tr style=\"text-align: right;\">\n",
       "      <th></th>\n",
       "      <th>STCNTY</th>\n",
       "      <th>count</th>\n",
       "    </tr>\n",
       "  </thead>\n",
       "  <tbody>\n",
       "    <tr>\n",
       "      <th>0</th>\n",
       "      <td>01015</td>\n",
       "      <td>31</td>\n",
       "    </tr>\n",
       "    <tr>\n",
       "      <th>1</th>\n",
       "      <td>01097</td>\n",
       "      <td>115</td>\n",
       "    </tr>\n",
       "    <tr>\n",
       "      <th>2</th>\n",
       "      <td>01117</td>\n",
       "      <td>48</td>\n",
       "    </tr>\n",
       "    <tr>\n",
       "      <th>3</th>\n",
       "      <td>02185</td>\n",
       "      <td>3</td>\n",
       "    </tr>\n",
       "    <tr>\n",
       "      <th>4</th>\n",
       "      <td>04012</td>\n",
       "      <td>9</td>\n",
       "    </tr>\n",
       "    <tr>\n",
       "      <th>...</th>\n",
       "      <td>...</td>\n",
       "      <td>...</td>\n",
       "    </tr>\n",
       "    <tr>\n",
       "      <th>3137</th>\n",
       "      <td>48271</td>\n",
       "      <td>1</td>\n",
       "    </tr>\n",
       "    <tr>\n",
       "      <th>3138</th>\n",
       "      <td>48283</td>\n",
       "      <td>1</td>\n",
       "    </tr>\n",
       "    <tr>\n",
       "      <th>3139</th>\n",
       "      <td>48301</td>\n",
       "      <td>1</td>\n",
       "    </tr>\n",
       "    <tr>\n",
       "      <th>3140</th>\n",
       "      <td>48311</td>\n",
       "      <td>1</td>\n",
       "    </tr>\n",
       "    <tr>\n",
       "      <th>3141</th>\n",
       "      <td>49009</td>\n",
       "      <td>1</td>\n",
       "    </tr>\n",
       "  </tbody>\n",
       "</table>\n",
       "<p>3142 rows × 2 columns</p>\n",
       "</div>"
      ],
      "text/plain": [
       "     STCNTY count\n",
       "0     01015    31\n",
       "1     01097   115\n",
       "2     01117    48\n",
       "3     02185     3\n",
       "4     04012     9\n",
       "...     ...   ...\n",
       "3137  48271     1\n",
       "3138  48283     1\n",
       "3139  48301     1\n",
       "3140  48311     1\n",
       "3141  49009     1\n",
       "\n",
       "[3142 rows x 2 columns]"
      ]
     },
     "execution_count": 11,
     "metadata": {},
     "output_type": "execute_result"
    }
   ],
   "source": [
    "df_counties"
   ]
  },
  {
   "cell_type": "code",
   "execution_count": 13,
   "metadata": {},
   "outputs": [
    {
     "name": "stdout",
     "output_type": "stream",
     "text": [
      "Number of counties with 1 tracts: 237\n",
      "Number of counties with 2 tracts: 305\n",
      "Number of counties with 3 tracts: 322\n",
      "Number of counties with 4 tracts: 256\n",
      "Number of counties with 5 tracts: 268\n",
      "Number of counties with 6 tracts: 202\n",
      "Number of counties with 7 tracts: 148\n",
      "Number of counties with 8 tracts: 107\n",
      "Number of counties with 9 tracts: 112\n",
      "Number of counties with 10 tracts: 108\n"
     ]
    }
   ],
   "source": [
    "for i in range(1, 11):\n",
    "\n",
    "    number_of_counties = len(df_counties[df_counties['count'] == i]['STCNTY'].unique())\n",
    "\n",
    "    print(f'Number of counties with {i} tracts: {number_of_counties}')"
   ]
  },
  {
   "cell_type": "code",
   "execution_count": 14,
   "metadata": {},
   "outputs": [],
   "source": [
    "number_of_counties_morethan10 = len(df_counties[df_counties['count'] > 10]['STCNTY'].unique())"
   ]
  },
  {
   "cell_type": "code",
   "execution_count": 15,
   "metadata": {},
   "outputs": [
    {
     "name": "stdout",
     "output_type": "stream",
     "text": [
      "Number of counties with more than 10 tracts: 1077\n"
     ]
    }
   ],
   "source": [
    "print(f'Number of counties with more than 10 tracts: {number_of_counties_morethan10}')"
   ]
  },
  {
   "cell_type": "code",
   "execution_count": null,
   "metadata": {},
   "outputs": [],
   "source": []
  }
 ],
 "metadata": {
  "kernelspec": {
   "display_name": "pytorch_env",
   "language": "python",
   "name": "python3"
  },
  "language_info": {
   "codemirror_mode": {
    "name": "ipython",
    "version": 3
   },
   "file_extension": ".py",
   "mimetype": "text/x-python",
   "name": "python",
   "nbconvert_exporter": "python",
   "pygments_lexer": "ipython3",
   "version": "3.12.3"
  }
 },
 "nbformat": 4,
 "nbformat_minor": 2
}
